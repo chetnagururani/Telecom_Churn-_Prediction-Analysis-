{
 "cells": [
  {
   "cell_type": "markdown",
   "id": "9e4e1d75-c479-4627-b55f-e060fb280961",
   "metadata": {},
   "source": [
    "# <b> CHURN ANALYSIS"
   ]
  },
  {
   "cell_type": "markdown",
   "id": "8c01b0c7-b314-43aa-8439-e10b23089776",
   "metadata": {},
   "source": [
    "## Problem statement\n",
    "To build a predictive model that identifies customers who are likely to churn based on their demographic, service usage, and billing data. This will help the company implement proactive retention strategies and reduce customer attrition."
   ]
  },
  {
   "cell_type": "markdown",
   "id": "9b292cc4-30cd-4d39-81f0-e4100fac914a",
   "metadata": {},
   "source": [
    "# Feature \n",
    "\n",
    "- <b> Customer_ID\t\n",
    "    - Unique identifier for each customer.\n",
    "\n",
    "#### Demographic Features\n",
    "- <b> Gender\t\n",
    "    - Gender: Male or Female.\n",
    "- <b> Age\n",
    "- <b> Married\t\n",
    "    - Whether the customer is married (Yes/No).\n",
    "- <b> State\n",
    "    - The state from which the customer belongs \n",
    "\n",
    "#### Customer Relationship & Referral\n",
    "\n",
    "- Number_of_Referrals\t\n",
    "    - Number of people the customer referred to the service. High referrals often indicate satisfaction.\n",
    "- Tenure_in_Months\n",
    "    - How long the customer has been using the service (in months). Shorter tenures may correlate with churn.\n",
    "\n",
    "#### Plan & Deal-Related Features\n",
    "\n",
    "- Value_Deal\t\n",
    "    - Type of promotional deal the customer is on. Many nulls suggest not all customers were on deals.\n",
    "\n",
    "#### Service Features\n",
    "\n",
    "- <b> Phone_Service\t</b> : Whether the customer has phone service.\n",
    "- <b> Multiple_Lines</b> :\tWhether the customer has multiple lines (e.g., for family).\n",
    "- <b> Internet_Service<b/>:\tWhether the customer subscribes to Internet services.\n",
    "- <b> Internet_Type\t</b> : Type of internet connection (e.g., Fiber Optic, DSL, etc.).\n",
    "- <b>Online_Security</b>: If the customer has added an online security service.\n",
    "- <b>Online_Backup</b>:\tWhether the customer subscribes to online backup.\n",
    "- <b> Device_Protection_Plan</b>:\tSubscription to device protection services.\n",
    "- <b> Premium_Support</b>:\tAccess to premium technical support.\n",
    "- <b> Streaming_TV</b>:\tSubscription to streaming TV service.\n",
    "- <b> Streaming_Movies</b>:\tSubscription to streaming movie service.\n",
    "- <b> Streaming_Music</b>:\tSubscription to music streaming services.\n",
    "- <b> Unlimited_Data</b>:\tWhether the customer has unlimited data access.\n",
    "\n",
    "- These features are crucial in understanding product usage behavior which may relate to churn.\n",
    "\n",
    "#### Contract & Billing Info\n",
    "- <b> Contract\tType of contract </b>:– Monthly, One Year, Two Year. Long contracts typically mean less churn.\n",
    "- <b> Paperless_Billing</b>:\tWhether the customer opted for paperless billing (Yes/No).\n",
    "- <b> Payment_Method</b>:\tMethod used for payment – Credit Card, Bank Withdrawal, etc.\n",
    "\n",
    "#### Financial Features\n",
    "- <b>Monthly_Charge\t </b> :The monthly amount billed to the customer.\n",
    "- <b>Total_Charges </b> :\tTotal charges billed till date.\n",
    "- <b>Total_Refunds </b> :\tTotal amount refunded to the customer.\n",
    "- <b>Total_Extra_Data_Charges </b> :\tCharges for extra data usage.\n",
    "- <b>Total_Long_Distance_Charges </b> :\tCharges related to long-distance calls.\n",
    "- <b>Total_Revenue </b> :\tTotal revenue generated from the customer.\n",
    "\n",
    "#### 🎯 Target & Churn-RelaColumn\tDescription\n",
    "- <b> Customer_Status</b>:\tIndicates whether the customer Stayed, Churned, or Joined (new customers). This is your primary target variable for churn analysis.\n",
    "- <b>Churn_Category</b>:\tSpecific type of churn – e.g., Dissatisfaction, Competitor, etc. Available only for churned customers.\n",
    "- <b> Churn_Reason</b>:\tDetailed reason for churn – e.g., \"Network reliability\", \"Billing issue\". Helpful for interpretability or clustering.\n",
    "\n",
    "#### Summary\n",
    "\n",
    "- Customer ID\tCustomer_ID\n",
    "- Demographics\tGender, Age, Married, State\n",
    "- Referral & Tenure\tNumber_of_Referrals, Tenure_in_Months\n",
    "- Services Used\tPhone_Service through Unlimited_Data\n",
    "- Contract & Billing\tContract, Payment_Method, Paperless_Billing\n",
    "- Charges & Revenue\tMonthly_Charge through Total_Revenue\n",
    "- Target & Churn Info\tCustomer_Status, Churn_Category, Churn_Reason"
   ]
  },
  {
   "cell_type": "markdown",
   "id": "a816ff8a-46ac-4292-9a69-70e23df13a23",
   "metadata": {},
   "source": [
    "# Project goal \n",
    "Creating an entire ETL proocess in a database & a Power BI dashboard to utilize the customer Data \n",
    "1. Analyze customer data \n",
    "    - Demographic\n",
    "    - Geographic\n",
    "    - Payment & Account Info\n",
    "    - Services\n",
    "2. Study churn Profile & Identify Area for implementing Marketing campaigns\n",
    "3. Identify a Method to Predict Future Churners\n"
   ]
  },
  {
   "cell_type": "code",
   "execution_count": 6,
   "id": "14d2510f-197d-43ad-9701-123ab95015da",
   "metadata": {},
   "outputs": [],
   "source": [
    "import pandas as pd"
   ]
  },
  {
   "cell_type": "code",
   "execution_count": 8,
   "id": "1e2b54de-5b76-4348-aaeb-676240012d99",
   "metadata": {},
   "outputs": [],
   "source": [
    "df = pd.read_csv(\"Customer_Data.csv\")"
   ]
  },
  {
   "cell_type": "code",
   "execution_count": 12,
   "id": "1caaf604-d2e1-4145-afb9-c366145f3189",
   "metadata": {},
   "outputs": [
    {
     "data": {
      "text/html": [
       "<div>\n",
       "<style scoped>\n",
       "    .dataframe tbody tr th:only-of-type {\n",
       "        vertical-align: middle;\n",
       "    }\n",
       "\n",
       "    .dataframe tbody tr th {\n",
       "        vertical-align: top;\n",
       "    }\n",
       "\n",
       "    .dataframe thead th {\n",
       "        text-align: right;\n",
       "    }\n",
       "</style>\n",
       "<table border=\"1\" class=\"dataframe\">\n",
       "  <thead>\n",
       "    <tr style=\"text-align: right;\">\n",
       "      <th></th>\n",
       "      <th>Customer_ID</th>\n",
       "      <th>Gender</th>\n",
       "      <th>Age</th>\n",
       "      <th>Married</th>\n",
       "      <th>State</th>\n",
       "      <th>Number_of_Referrals</th>\n",
       "      <th>Tenure_in_Months</th>\n",
       "      <th>Value_Deal</th>\n",
       "      <th>Phone_Service</th>\n",
       "      <th>Multiple_Lines</th>\n",
       "      <th>...</th>\n",
       "      <th>Payment_Method</th>\n",
       "      <th>Monthly_Charge</th>\n",
       "      <th>Total_Charges</th>\n",
       "      <th>Total_Refunds</th>\n",
       "      <th>Total_Extra_Data_Charges</th>\n",
       "      <th>Total_Long_Distance_Charges</th>\n",
       "      <th>Total_Revenue</th>\n",
       "      <th>Customer_Status</th>\n",
       "      <th>Churn_Category</th>\n",
       "      <th>Churn_Reason</th>\n",
       "    </tr>\n",
       "  </thead>\n",
       "  <tbody>\n",
       "    <tr>\n",
       "      <th>2781</th>\n",
       "      <td>53365-GUJ</td>\n",
       "      <td>Male</td>\n",
       "      <td>32</td>\n",
       "      <td>Yes</td>\n",
       "      <td>Gujarat</td>\n",
       "      <td>4</td>\n",
       "      <td>19</td>\n",
       "      <td>Deal 2</td>\n",
       "      <td>No</td>\n",
       "      <td>NaN</td>\n",
       "      <td>...</td>\n",
       "      <td>Credit Card</td>\n",
       "      <td>35.40</td>\n",
       "      <td>1412.40</td>\n",
       "      <td>0.0</td>\n",
       "      <td>0</td>\n",
       "      <td>0.00</td>\n",
       "      <td>1412.40</td>\n",
       "      <td>Stayed</td>\n",
       "      <td>NaN</td>\n",
       "      <td>NaN</td>\n",
       "    </tr>\n",
       "    <tr>\n",
       "      <th>5825</th>\n",
       "      <td>24004-KAR</td>\n",
       "      <td>Female</td>\n",
       "      <td>41</td>\n",
       "      <td>No</td>\n",
       "      <td>Karnataka</td>\n",
       "      <td>5</td>\n",
       "      <td>33</td>\n",
       "      <td>NaN</td>\n",
       "      <td>Yes</td>\n",
       "      <td>No</td>\n",
       "      <td>...</td>\n",
       "      <td>Bank Withdrawal</td>\n",
       "      <td>100.30</td>\n",
       "      <td>6754.35</td>\n",
       "      <td>0.0</td>\n",
       "      <td>90</td>\n",
       "      <td>3366.68</td>\n",
       "      <td>10211.03</td>\n",
       "      <td>Stayed</td>\n",
       "      <td>NaN</td>\n",
       "      <td>NaN</td>\n",
       "    </tr>\n",
       "    <tr>\n",
       "      <th>3238</th>\n",
       "      <td>36962-WES</td>\n",
       "      <td>Male</td>\n",
       "      <td>76</td>\n",
       "      <td>No</td>\n",
       "      <td>West Bengal</td>\n",
       "      <td>10</td>\n",
       "      <td>25</td>\n",
       "      <td>NaN</td>\n",
       "      <td>Yes</td>\n",
       "      <td>Yes</td>\n",
       "      <td>...</td>\n",
       "      <td>Credit Card</td>\n",
       "      <td>84.80</td>\n",
       "      <td>906.85</td>\n",
       "      <td>0.0</td>\n",
       "      <td>0</td>\n",
       "      <td>45.10</td>\n",
       "      <td>951.95</td>\n",
       "      <td>Churned</td>\n",
       "      <td>Price</td>\n",
       "      <td>Extra data charges</td>\n",
       "    </tr>\n",
       "    <tr>\n",
       "      <th>3660</th>\n",
       "      <td>28976-HAR</td>\n",
       "      <td>Male</td>\n",
       "      <td>39</td>\n",
       "      <td>No</td>\n",
       "      <td>Haryana</td>\n",
       "      <td>2</td>\n",
       "      <td>8</td>\n",
       "      <td>NaN</td>\n",
       "      <td>Yes</td>\n",
       "      <td>Yes</td>\n",
       "      <td>...</td>\n",
       "      <td>Credit Card</td>\n",
       "      <td>90.25</td>\n",
       "      <td>6369.45</td>\n",
       "      <td>0.0</td>\n",
       "      <td>0</td>\n",
       "      <td>786.24</td>\n",
       "      <td>7155.69</td>\n",
       "      <td>Stayed</td>\n",
       "      <td>NaN</td>\n",
       "      <td>NaN</td>\n",
       "    </tr>\n",
       "    <tr>\n",
       "      <th>4330</th>\n",
       "      <td>26836-HAR</td>\n",
       "      <td>Male</td>\n",
       "      <td>52</td>\n",
       "      <td>No</td>\n",
       "      <td>Haryana</td>\n",
       "      <td>10</td>\n",
       "      <td>7</td>\n",
       "      <td>NaN</td>\n",
       "      <td>Yes</td>\n",
       "      <td>No</td>\n",
       "      <td>...</td>\n",
       "      <td>Credit Card</td>\n",
       "      <td>20.65</td>\n",
       "      <td>958.10</td>\n",
       "      <td>0.0</td>\n",
       "      <td>0</td>\n",
       "      <td>976.50</td>\n",
       "      <td>1934.60</td>\n",
       "      <td>Stayed</td>\n",
       "      <td>NaN</td>\n",
       "      <td>NaN</td>\n",
       "    </tr>\n",
       "  </tbody>\n",
       "</table>\n",
       "<p>5 rows × 32 columns</p>\n",
       "</div>"
      ],
      "text/plain": [
       "     Customer_ID  Gender  Age Married        State  Number_of_Referrals  \\\n",
       "2781   53365-GUJ    Male   32     Yes      Gujarat                    4   \n",
       "5825   24004-KAR  Female   41      No    Karnataka                    5   \n",
       "3238   36962-WES    Male   76      No  West Bengal                   10   \n",
       "3660   28976-HAR    Male   39      No      Haryana                    2   \n",
       "4330   26836-HAR    Male   52      No      Haryana                   10   \n",
       "\n",
       "      Tenure_in_Months Value_Deal Phone_Service Multiple_Lines  ...  \\\n",
       "2781                19     Deal 2            No            NaN  ...   \n",
       "5825                33        NaN           Yes             No  ...   \n",
       "3238                25        NaN           Yes            Yes  ...   \n",
       "3660                 8        NaN           Yes            Yes  ...   \n",
       "4330                 7        NaN           Yes             No  ...   \n",
       "\n",
       "       Payment_Method Monthly_Charge Total_Charges Total_Refunds  \\\n",
       "2781      Credit Card          35.40       1412.40           0.0   \n",
       "5825  Bank Withdrawal         100.30       6754.35           0.0   \n",
       "3238      Credit Card          84.80        906.85           0.0   \n",
       "3660      Credit Card          90.25       6369.45           0.0   \n",
       "4330      Credit Card          20.65        958.10           0.0   \n",
       "\n",
       "     Total_Extra_Data_Charges Total_Long_Distance_Charges Total_Revenue  \\\n",
       "2781                        0                        0.00       1412.40   \n",
       "5825                       90                     3366.68      10211.03   \n",
       "3238                        0                       45.10        951.95   \n",
       "3660                        0                      786.24       7155.69   \n",
       "4330                        0                      976.50       1934.60   \n",
       "\n",
       "     Customer_Status Churn_Category        Churn_Reason  \n",
       "2781          Stayed            NaN                 NaN  \n",
       "5825          Stayed            NaN                 NaN  \n",
       "3238         Churned          Price  Extra data charges  \n",
       "3660          Stayed            NaN                 NaN  \n",
       "4330          Stayed            NaN                 NaN  \n",
       "\n",
       "[5 rows x 32 columns]"
      ]
     },
     "execution_count": 12,
     "metadata": {},
     "output_type": "execute_result"
    }
   ],
   "source": [
    "df.sample(5)"
   ]
  },
  {
   "cell_type": "code",
   "execution_count": 22,
   "id": "26eff3c2-7de7-40e7-8282-aaa929440acd",
   "metadata": {},
   "outputs": [
    {
     "name": "stdout",
     "output_type": "stream",
     "text": [
      "<class 'pandas.core.frame.DataFrame'>\n",
      "RangeIndex: 6418 entries, 0 to 6417\n",
      "Data columns (total 32 columns):\n",
      " #   Column                       Non-Null Count  Dtype  \n",
      "---  ------                       --------------  -----  \n",
      " 0   Customer_ID                  6418 non-null   object \n",
      " 1   Gender                       6418 non-null   object \n",
      " 2   Age                          6418 non-null   int64  \n",
      " 3   Married                      6418 non-null   object \n",
      " 4   State                        6418 non-null   object \n",
      " 5   Number_of_Referrals          6418 non-null   int64  \n",
      " 6   Tenure_in_Months             6418 non-null   int64  \n",
      " 7   Value_Deal                   2870 non-null   object \n",
      " 8   Phone_Service                6418 non-null   object \n",
      " 9   Multiple_Lines               5796 non-null   object \n",
      " 10  Internet_Service             6418 non-null   object \n",
      " 11  Internet_Type                5028 non-null   object \n",
      " 12  Online_Security              5028 non-null   object \n",
      " 13  Online_Backup                5028 non-null   object \n",
      " 14  Device_Protection_Plan       5028 non-null   object \n",
      " 15  Premium_Support              5028 non-null   object \n",
      " 16  Streaming_TV                 5028 non-null   object \n",
      " 17  Streaming_Movies             5028 non-null   object \n",
      " 18  Streaming_Music              5028 non-null   object \n",
      " 19  Unlimited_Data               5028 non-null   object \n",
      " 20  Contract                     6418 non-null   object \n",
      " 21  Paperless_Billing            6418 non-null   object \n",
      " 22  Payment_Method               6418 non-null   object \n",
      " 23  Monthly_Charge               6418 non-null   float64\n",
      " 24  Total_Charges                6418 non-null   float64\n",
      " 25  Total_Refunds                6418 non-null   float64\n",
      " 26  Total_Extra_Data_Charges     6418 non-null   int64  \n",
      " 27  Total_Long_Distance_Charges  6418 non-null   float64\n",
      " 28  Total_Revenue                6418 non-null   float64\n",
      " 29  Customer_Status              6418 non-null   object \n",
      " 30  Churn_Category               1732 non-null   object \n",
      " 31  Churn_Reason                 1732 non-null   object \n",
      "dtypes: float64(5), int64(4), object(23)\n",
      "memory usage: 1.6+ MB\n"
     ]
    }
   ],
   "source": [
    "df.info()"
   ]
  },
  {
   "cell_type": "code",
   "execution_count": 24,
   "id": "7ddd81e8-0a61-476d-aa0f-6d81695f7dc4",
   "metadata": {},
   "outputs": [
    {
     "data": {
      "text/plain": [
       "Customer_ID                       0\n",
       "Gender                            0\n",
       "Age                               0\n",
       "Married                           0\n",
       "State                             0\n",
       "Number_of_Referrals               0\n",
       "Tenure_in_Months                  0\n",
       "Value_Deal                     3548\n",
       "Phone_Service                     0\n",
       "Multiple_Lines                  622\n",
       "Internet_Service                  0\n",
       "Internet_Type                  1390\n",
       "Online_Security                1390\n",
       "Online_Backup                  1390\n",
       "Device_Protection_Plan         1390\n",
       "Premium_Support                1390\n",
       "Streaming_TV                   1390\n",
       "Streaming_Movies               1390\n",
       "Streaming_Music                1390\n",
       "Unlimited_Data                 1390\n",
       "Contract                          0\n",
       "Paperless_Billing                 0\n",
       "Payment_Method                    0\n",
       "Monthly_Charge                    0\n",
       "Total_Charges                     0\n",
       "Total_Refunds                     0\n",
       "Total_Extra_Data_Charges          0\n",
       "Total_Long_Distance_Charges       0\n",
       "Total_Revenue                     0\n",
       "Customer_Status                   0\n",
       "Churn_Category                 4686\n",
       "Churn_Reason                   4686\n",
       "dtype: int64"
      ]
     },
     "execution_count": 24,
     "metadata": {},
     "output_type": "execute_result"
    }
   ],
   "source": [
    "# missing values\n",
    "df.isnull().sum()"
   ]
  },
  {
   "cell_type": "code",
   "execution_count": 26,
   "id": "fe6c9dcf-4480-48b0-843e-1a3bd5370b19",
   "metadata": {},
   "outputs": [
    {
     "data": {
      "text/plain": [
       "0"
      ]
     },
     "execution_count": 26,
     "metadata": {},
     "output_type": "execute_result"
    }
   ],
   "source": [
    "df.duplicated().sum()"
   ]
  },
  {
   "cell_type": "code",
   "execution_count": 34,
   "id": "9ea4a34d-047b-4b7c-ba16-fcbeb12c578a",
   "metadata": {},
   "outputs": [],
   "source": [
    "# renaming the column \n",
    "df.rename(columns={'Customer_Status':'target'}, inplace=True)"
   ]
  },
  {
   "cell_type": "code",
   "execution_count": 36,
   "id": "de219cf0-03d3-4709-a830-a685911ea6ac",
   "metadata": {},
   "outputs": [
    {
     "data": {
      "text/plain": [
       "0    Stayed\n",
       "Name: target, dtype: object"
      ]
     },
     "execution_count": 36,
     "metadata": {},
     "output_type": "execute_result"
    }
   ],
   "source": [
    "df['target'].mode()"
   ]
  },
  {
   "cell_type": "code",
   "execution_count": 44,
   "id": "4c1e3a4e-3a16-4c63-a095-58bd49d24e66",
   "metadata": {},
   "outputs": [
    {
     "data": {
      "text/plain": [
       "target \n",
       "Stayed     4275\n",
       "Churned    1732\n",
       "Joined      411\n",
       "Name: count, dtype: int64"
      ]
     },
     "execution_count": 44,
     "metadata": {},
     "output_type": "execute_result"
    }
   ],
   "source": [
    "df[['target']].value_counts()"
   ]
  },
  {
   "cell_type": "code",
   "execution_count": null,
   "id": "5366552d-db1c-4af4-afe7-847b0c930622",
   "metadata": {},
   "outputs": [],
   "source": []
  }
 ],
 "metadata": {
  "kernelspec": {
   "display_name": "Python [conda env:base] *",
   "language": "python",
   "name": "conda-base-py"
  },
  "language_info": {
   "codemirror_mode": {
    "name": "ipython",
    "version": 3
   },
   "file_extension": ".py",
   "mimetype": "text/x-python",
   "name": "python",
   "nbconvert_exporter": "python",
   "pygments_lexer": "ipython3",
   "version": "3.12.7"
  }
 },
 "nbformat": 4,
 "nbformat_minor": 5
}
